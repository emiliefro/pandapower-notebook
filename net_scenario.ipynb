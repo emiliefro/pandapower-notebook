{
 "cells": [
  {
   "cell_type": "code",
   "execution_count": 1,
   "metadata": {},
   "outputs": [
    {
     "name": "stdout",
     "output_type": "stream",
     "text": [
      "Defaulting to user installation because normal site-packages is not writeable\n",
      "Requirement already satisfied: pandapower in /usr/local/lib/python3.7/dist-packages (2.1.0)\n",
      "Requirement already satisfied: networkx in /home/efrost/.local/lib/python3.7/site-packages (from pandapower) (2.5)\n",
      "Requirement already satisfied: numpy>=0.11 in /home/efrost/.local/lib/python3.7/site-packages (from pandapower) (1.21.6)\n",
      "Requirement already satisfied: pandas>=0.17 in /usr/local/lib/python3.7/dist-packages (from pandapower) (0.24.2)\n",
      "Requirement already satisfied: scipy in /usr/local/lib/python3.7/dist-packages (from pandapower) (1.4.1)\n",
      "Requirement already satisfied: packaging in /usr/local/lib/python3.7/dist-packages (from pandapower) (19.0)\n",
      "Requirement already satisfied: python-dateutil>=2.5.0 in /usr/local/lib/python3.7/dist-packages (from pandas>=0.17->pandapower) (2.6.1)\n",
      "Requirement already satisfied: pytz>=2011k in /usr/local/lib/python3.7/dist-packages (from pandas>=0.17->pandapower) (2017.3)\n",
      "Requirement already satisfied: decorator>=4.3.0 in /usr/local/lib/python3.7/dist-packages (from networkx->pandapower) (4.4.0)\n",
      "Requirement already satisfied: pyparsing>=2.0.2 in /usr/local/lib/python3.7/dist-packages (from packaging->pandapower) (2.2.0)\n",
      "Requirement already satisfied: six in /usr/lib/python3/dist-packages (from packaging->pandapower) (1.14.0)\n",
      "\u001b[33mWARNING: You are using pip version 22.0.3; however, version 22.0.4 is available.\n",
      "You should consider upgrading via the '/usr/bin/python3.7 -m pip install --upgrade pip' command.\u001b[0m\u001b[33m\n",
      "\u001b[0mDefaulting to user installation because normal site-packages is not writeable\n",
      "Requirement already satisfied: pandas in /usr/local/lib/python3.7/dist-packages (0.24.2)\n",
      "Requirement already satisfied: python-dateutil>=2.5.0 in /usr/local/lib/python3.7/dist-packages (from pandas) (2.6.1)\n",
      "Requirement already satisfied: numpy>=1.12.0 in /home/efrost/.local/lib/python3.7/site-packages (from pandas) (1.21.6)\n",
      "Requirement already satisfied: pytz>=2011k in /usr/local/lib/python3.7/dist-packages (from pandas) (2017.3)\n",
      "Requirement already satisfied: six>=1.5 in /usr/lib/python3/dist-packages (from python-dateutil>=2.5.0->pandas) (1.14.0)\n",
      "\u001b[33mWARNING: You are using pip version 22.0.3; however, version 22.0.4 is available.\n",
      "You should consider upgrading via the '/usr/bin/python3.7 -m pip install --upgrade pip' command.\u001b[0m\u001b[33m\n",
      "\u001b[0mDefaulting to user installation because normal site-packages is not writeable\n",
      "Requirement already satisfied: numpy in /home/efrost/.local/lib/python3.7/site-packages (1.21.6)\n",
      "\u001b[33mWARNING: You are using pip version 22.0.3; however, version 22.0.4 is available.\n",
      "You should consider upgrading via the '/usr/bin/python3.7 -m pip install --upgrade pip' command.\u001b[0m\u001b[33m\n",
      "\u001b[0mDefaulting to user installation because normal site-packages is not writeable\n",
      "Requirement already satisfied: numba in /home/efrost/.local/lib/python3.7/site-packages (0.55.1)\n",
      "Requirement already satisfied: setuptools in /usr/local/lib/python3.7/dist-packages (from numba) (41.0.1)\n",
      "Requirement already satisfied: llvmlite<0.39,>=0.38.0rc1 in /home/efrost/.local/lib/python3.7/site-packages (from numba) (0.38.0)\n",
      "Requirement already satisfied: numpy<1.22,>=1.18 in /home/efrost/.local/lib/python3.7/site-packages (from numba) (1.21.6)\n",
      "\u001b[33mWARNING: You are using pip version 22.0.3; however, version 22.0.4 is available.\n",
      "You should consider upgrading via the '/usr/bin/python3.7 -m pip install --upgrade pip' command.\u001b[0m\u001b[33m\n",
      "\u001b[0m"
     ]
    }
   ],
   "source": [
    "# Installation der Pakete. Dies muss nur einmal ganz am Anfang durchgeführt werden.\n",
    "!pip install pandapower\n",
    "!pip install pandas\n",
    "!pip install numpy\n",
    "!pip install numba"
   ]
  },
  {
   "cell_type": "code",
   "execution_count": 1,
   "metadata": {},
   "outputs": [
    {
     "name": "stdout",
     "output_type": "stream",
     "text": [
      "Importieren abgeschlossen\n"
     ]
    }
   ],
   "source": [
    "# Importieren der benötigten Funktionen\n",
    "from util_function import create_net, run_simulation, plot_bus_values, plot_load_values, plot_generator_values, plot_sgen2_values, plot_schedule_values\n",
    "print('Importieren abgeschlossen')"
   ]
  },
  {
   "cell_type": "code",
   "execution_count": 2,
   "metadata": {},
   "outputs": [
    {
     "name": "stdout",
     "output_type": "stream",
     "text": [
      "This pandapower network includes the following parameter tables:\n",
      "   - bus (7 elements)\n",
      "   - load (5 elements)\n",
      "   - sgen (5 elements)\n",
      "   - switch (1 element)\n",
      "   - ext_grid (1 element)\n",
      "   - line (6 elements)\n",
      "   - trafo (1 element)\n",
      "   - bus_geodata (7 elements)\n"
     ]
    }
   ],
   "source": [
    "# Erstellung des Netzes.\n",
    "# Wenn switch_is_closed = True, dann ist der Schalter geschlossen\n",
    "# Wenn switch_is_closed = False, dann ist der Schalter geöffnet\n",
    "switch_is_closed = True\n",
    "\n",
    "net = create_net(switch_is_closed)\n",
    "print(net)"
   ]
  },
  {
   "cell_type": "code",
   "execution_count": 3,
   "metadata": {},
   "outputs": [
    {
     "name": "stdout",
     "output_type": "stream",
     "text": [
      "Aktueller Zeitschritt:  08:00\n",
      "Die Lastflussrechnung ist nicht konvergiert!\n",
      "\n",
      "\n",
      "Aktueller Zeitschritt:  08:15\n",
      "Die Lastflussrechnung ist nicht konvergiert!\n",
      "\n",
      "\n",
      "Aktueller Zeitschritt:  08:30\n",
      "Die Lastflussrechnung ist nicht konvergiert!\n",
      "\n",
      "\n",
      "Aktueller Zeitschritt:  08:45\n",
      "Die Lastflussrechnung ist nicht konvergiert!\n",
      "\n",
      "\n",
      "Aktueller Zeitschritt:  09:00\n",
      "Die Lastflussrechnung ist nicht konvergiert!\n",
      "\n",
      "\n",
      "Aktueller Zeitschritt:  09:15\n",
      "Die Lastflussrechnung ist nicht konvergiert!\n",
      "\n",
      "\n",
      "Aktueller Zeitschritt:  09:30\n",
      "Die Lastflussrechnung ist nicht konvergiert!\n",
      "\n",
      "\n",
      "Aktueller Zeitschritt:  09:45\n",
      "Die Lastflussrechnung ist nicht konvergiert!\n",
      "\n",
      "\n",
      "Aktueller Zeitschritt:  10:00\n",
      "Die Lastflussrechnung ist nicht konvergiert!\n",
      "\n",
      "\n"
     ]
    }
   ],
   "source": [
    "# Nun kann die Simulation mit dem Netz gestartet werden\n",
    "date_idx, sgen_values, bus_values, load_values, sgen_2_values, power = run_simulation(net)"
   ]
  },
  {
   "cell_type": "code",
   "execution_count": 4,
   "metadata": {},
   "outputs": [
    {
     "data": {
      "image/png": "[encoded data removed]",
      "text/plain": [
       "<Figure size 432x288 with 1 Axes>"
      ]
     },
     "metadata": {
      "needs_background": "light"
     },
     "output_type": "display_data"
    }
   ],
   "source": [
    "# Nun können wir uns die Ergebnisse anschauen. Zunächst die Spannungswerte der Netzknoten im Durchschnitt.\n",
    "# Der Wert sollte immer im Bereich von 0.85 und 1.15 liegen.\n",
    "plot_bus_values(date_idx, bus_values)"
   ]
  },
  {
   "cell_type": "code",
   "execution_count": 5,
   "metadata": {},
   "outputs": [
    {
     "data": {
      "image/png": "[encoded data removed]",
      "text/plain": [
       "<Figure size 432x288 with 1 Axes>"
      ]
     },
     "metadata": {
      "needs_background": "light"
     },
     "output_type": "display_data"
    }
   ],
   "source": [
    "# Durchschnittliche Leistungswerte der Lasten über die Zeit\n",
    "plot_load_values(date_idx, load_values)"
   ]
  },
  {
   "cell_type": "code",
   "execution_count": 6,
   "metadata": {},
   "outputs": [
    {
     "data": {
      "image/png": "[encoded data removed]",
      "text/plain": [
       "<Figure size 432x288 with 1 Axes>"
      ]
     },
     "metadata": {
      "needs_background": "light"
     },
     "output_type": "display_data"
    }
   ],
   "source": [
    "# Durchschnittliche Leistungswerte der Generatoren über die Zeit\n",
    "plot_generator_values(date_idx, sgen_values)"
   ]
  },
  {
   "cell_type": "code",
   "execution_count": 8,
   "metadata": {},
   "outputs": [
    {
     "data": {
      "image/png": "[encoded data removed]",
      "text/plain": [
       "<Figure size 432x288 with 1 Axes>"
      ]
     },
     "metadata": {
      "needs_background": "light"
     },
     "output_type": "display_data"
    }
   ],
   "source": [
    "# Tatsächlich gefahrene Leistungswerte der Anlage, dessen Werte verändert werden können (Generator 2)\n",
    "plot_sgen2_values(date_idx, sgen_2_values)"
   ]
  },
  {
   "cell_type": "code",
   "execution_count": 10,
   "metadata": {},
   "outputs": [
    {
     "data": {
      "image/png": "[encoded data removed]",
      "text/plain": [
       "<Figure size 432x288 with 1 Axes>"
      ]
     },
     "metadata": {
      "needs_background": "light"
     },
     "output_type": "display_data"
    }
   ],
   "source": [
    "# Eigentlich eingetragene Werte für Generator 2\n",
    "plot_schedule_values(date_idx, power)"
   ]
  },
  {
   "cell_type": "code",
   "execution_count": null,
   "metadata": {},
   "outputs": [],
   "source": []
  }
 ],
 "metadata": {
  "kernelspec": {
   "display_name": "Python 3",
   "language": "python",
   "name": "python3"
  },
  "language_info": {
   "codemirror_mode": {
    "name": "ipython",
    "version": 3
   },
   "file_extension": ".py",
   "mimetype": "text/x-python",
   "name": "python",
   "nbconvert_exporter": "python",
   "pygments_lexer": "ipython3",
   "version": "3.7.12"
  }
 },
 "nbformat": 4,
 "nbformat_minor": 4
}
